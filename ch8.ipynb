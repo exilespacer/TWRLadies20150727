{
 "cells": [
  {
   "cell_type": "markdown",
   "metadata": {},
   "source": [
    "# [導讀] 股票市場的預測\n",
    "* <a href='http://www.pcstore.com.tw/pchome24h/M19720645.htm'>基礎R語言與商業應用：第八章</a>\n",
    "* C.Y. Yen\n",
    "* July @ TW RLadies"
   ]
  },
  {
   "cell_type": "markdown",
   "metadata": {},
   "source": [
    "### Outline\n",
    "* 問題：使用歷史資料來預測單一股票的未來績效表現\n",
    "* 處理流程：\n",
    "    1. 取得股價時間序列：以 xts 套件整理\n",
    "    2. 目標是什麼：定義交易邏輯               \n",
    "    3. 預測變數是什麼：以 Random Forest 選擇重要的變數 (降維)\n",
    "    4. 建模型：以 Support Vector Machine 做分類\n",
    "    5. 評估模型表現"
   ]
  },
  {
   "cell_type": "markdown",
   "metadata": {},
   "source": [
    "### 在這個章節中，你需要了解的 Machine Learning Algorithm\n",
    "* Random Forest 隨機森林\n",
    "* Support Vector Machine 支援向量機"
   ]
  },
  {
   "cell_type": "markdown",
   "metadata": {},
   "source": [
    "#### Decision Tree & Random Forest\n",
    "<iframe src=\"//www.slideshare.net/slideshow/embed_code/key/lMYAC22RJJGYfj\" width=\"425\" height=\"355\" frameborder=\"0\" marginwidth=\"0\" marginheight=\"0\" scrolling=\"no\" style=\"border:1px solid #CCC; border-width:1px; margin-bottom:5px; max-width: 100%;\" allowfullscreen> </iframe> <div style=\"margin-bottom:5px\"> <strong> <a href=\"//www.slideshare.net/DebdootSheet/decision-trees-and-random-forests\" title=\"Decision trees and random forests\" target=\"_blank\">Decision trees and random forests</a> </strong> from <strong><a href=\"//www.slideshare.net/DebdootSheet\" target=\"_blank\">Debdoot Sheet</a></strong> </div>"
   ]
  },
  {
   "cell_type": "markdown",
   "metadata": {},
   "source": [
    "#### Support Vector Machine\n",
    "<img src='fig/svm_spirit.png'>"
   ]
  },
  {
   "cell_type": "markdown",
   "metadata": {},
   "source": [
    "<img src='fig/support_vector.png'>"
   ]
  },
  {
   "cell_type": "markdown",
   "metadata": {},
   "source": [
    "#### 1.取得股價時間序列：以 xts 套件整理"
   ]
  },
  {
   "cell_type": "code",
   "execution_count": 1,
   "metadata": {
    "collapsed": false
   },
   "outputs": [
    {
     "name": "stderr",
     "output_type": "stream",
     "text": [
      "Loading required package: xts\n",
      "Loading required package: zoo\n",
      "\n",
      "Attaching package: ‘zoo’\n",
      "\n",
      "The following objects are masked from ‘package:base’:\n",
      "\n",
      "    as.Date, as.Date.numeric\n",
      "\n",
      "Loading required package: TTR\n",
      "Version 0.4-0 included new data defaults. See ?getSymbols.\n",
      "    As of 0.4-0, ‘getSymbols’ uses env=parent.frame() and\n",
      " auto.assign=TRUE by default.\n",
      "\n",
      " This  behavior  will be  phased out in 0.5-0  when the call  will\n",
      " default to use auto.assign=FALSE. getOption(\"getSymbols.env\") and \n",
      " getOptions(\"getSymbols.auto.assign\") are now checked for alternate defaults\n",
      "\n",
      " This message is shown once per session and may be disabled by setting \n",
      " options(\"getSymbols.warning4.0\"=FALSE). See ?getSymbol for more details\n"
     ]
    },
    {
     "data": {
      "text/plain": [
       "[1] \"SSEC\""
      ]
     },
     "execution_count": 1,
     "metadata": {},
     "output_type": "execute_result"
    },
    {
     "data": {
      "text/plain": [
       "           SSEC.Open SSEC.High SSEC.Low SSEC.Close SSEC.Volume SSEC.Adjusted\n",
       "2007-01-04  2728.188  2847.615 2684.818   2715.719      120200      2715.719\n",
       "2007-01-05  2668.577  2685.804 2617.019   2641.334      106200      2641.334\n",
       "2007-01-08  2621.068  2708.444 2620.625   2707.199      106800      2707.199\n",
       "2007-01-09  2711.049  2809.394 2691.360   2807.804      110800      2807.804\n",
       "2007-01-10  2838.113  2841.741 2770.988   2825.576      111800      2825.576\n",
       "2007-01-11  2819.367  2841.180 2763.886   2770.110      121600      2770.110"
      ]
     },
     "execution_count": 1,
     "metadata": {},
     "output_type": "execute_result"
    },
    {
     "data": {
      "text/plain": [
       "[1] \"xts\" \"zoo\""
      ]
     },
     "execution_count": 1,
     "metadata": {},
     "output_type": "execute_result"
    },
    {
     "name": "stderr",
     "output_type": "stream",
     "text": [
      "Warning message:\n",
      "In axis(1, at = 1 + x@bp * x@spacing - x@spacing, labels = x@x.labels, : conversion failure on ' 1月 04' in 'mbcsToSbcs': dot substituted for <e6>Warning message:\n",
      "In axis(1, at = 1 + x@bp * x@spacing - x@spacing, labels = x@x.labels, : conversion failure on ' 1月 04' in 'mbcsToSbcs': dot substituted for <9c>Warning message:\n",
      "In axis(1, at = 1 + x@bp * x@spacing - x@spacing, labels = x@x.labels, : conversion failure on ' 1月 04' in 'mbcsToSbcs': dot substituted for <88>Warning message:\n",
      "In axis(1, at = 1 + x@bp * x@spacing - x@spacing, labels = x@x.labels, : conversion failure on ' 1月 04' in 'mbcsToSbcs': dot substituted for <e6>Warning message:\n",
      "In axis(1, at = 1 + x@bp * x@spacing - x@spacing, labels = x@x.labels, : conversion failure on ' 1月 04' in 'mbcsToSbcs': dot substituted for <9c>Warning message:\n",
      "In axis(1, at = 1 + x@bp * x@spacing - x@spacing, labels = x@x.labels, : conversion failure on ' 1月 04' in 'mbcsToSbcs': dot substituted for <88>Warning message:\n",
      "In axis(1, at = 1 + x@bp * x@spacing - x@spacing, labels = x@x.labels, : conversion failure on ' 2月 01' in 'mbcsToSbcs': dot substituted for <e6>Warning message:\n",
      "In axis(1, at = 1 + x@bp * x@spacing - x@spacing, labels = x@x.labels, : conversion failure on ' 2月 01' in 'mbcsToSbcs': dot substituted for <9c>Warning message:\n",
      "In axis(1, at = 1 + x@bp * x@spacing - x@spacing, labels = x@x.labels, : conversion failure on ' 2月 01' in 'mbcsToSbcs': dot substituted for <88>Warning message:\n",
      "In axis(1, at = 1 + x@bp * x@spacing - x@spacing, labels = x@x.labels, : conversion failure on ' 3月 01' in 'mbcsToSbcs': dot substituted for <e6>Warning message:\n",
      "In axis(1, at = 1 + x@bp * x@spacing - x@spacing, labels = x@x.labels, : conversion failure on ' 3月 01' in 'mbcsToSbcs': dot substituted for <9c>Warning message:\n",
      "In axis(1, at = 1 + x@bp * x@spacing - x@spacing, labels = x@x.labels, : conversion failure on ' 3月 01' in 'mbcsToSbcs': dot substituted for <88>Warning message:\n",
      "In axis(1, at = 1 + x@bp * x@spacing - x@spacing, labels = x@x.labels, : conversion failure on ' 3月 01' in 'mbcsToSbcs': dot substituted for <e6>Warning message:\n",
      "In axis(1, at = 1 + x@bp * x@spacing - x@spacing, labels = x@x.labels, : conversion failure on ' 3月 01' in 'mbcsToSbcs': dot substituted for <9c>Warning message:\n",
      "In axis(1, at = 1 + x@bp * x@spacing - x@spacing, labels = x@x.labels, : conversion failure on ' 3月 01' in 'mbcsToSbcs': dot substituted for <88>Warning message:\n",
      "In axis(1, at = 1 + x@bp * x@spacing - x@spacing, labels = x@x.labels, : conversion failure on ' 4月 05' in 'mbcsToSbcs': dot substituted for <e6>Warning message:\n",
      "In axis(1, at = 1 + x@bp * x@spacing - x@spacing, labels = x@x.labels, : conversion failure on ' 4月 05' in 'mbcsToSbcs': dot substituted for <9c>Warning message:\n",
      "In axis(1, at = 1 + x@bp * x@spacing - x@spacing, labels = x@x.labels, : conversion failure on ' 4月 05' in 'mbcsToSbcs': dot substituted for <88>Warning message:\n",
      "In axis(1, at = 1 + x@bp * x@spacing - x@spacing, labels = x@x.labels, : conversion failure on ' 5月 02' in 'mbcsToSbcs': dot substituted for <e6>Warning message:\n",
      "In axis(1, at = 1 + x@bp * x@spacing - x@spacing, labels = x@x.labels, : conversion failure on ' 5月 02' in 'mbcsToSbcs': dot substituted for <9c>Warning message:\n",
      "In axis(1, at = 1 + x@bp * x@spacing - x@spacing, labels = x@x.labels, : conversion failure on ' 5月 02' in 'mbcsToSbcs': dot substituted for <88>Warning message:\n",
      "In axis(1, at = 1 + x@bp * x@spacing - x@spacing, labels = x@x.labels, : conversion failure on ' 5月 02' in 'mbcsToSbcs': dot substituted for <e6>Warning message:\n",
      "In axis(1, at = 1 + x@bp * x@spacing - x@spacing, labels = x@x.labels, : conversion failure on ' 5月 02' in 'mbcsToSbcs': dot substituted for <9c>Warning message:\n",
      "In axis(1, at = 1 + x@bp * x@spacing - x@spacing, labels = x@x.labels, : conversion failure on ' 5月 02' in 'mbcsToSbcs': dot substituted for <88>Warning message:\n",
      "In axis(1, at = 1 + x@bp * x@spacing - x@spacing, labels = x@x.labels, : conversion failure on ' 6月 01' in 'mbcsToSbcs': dot substituted for <e6>Warning message:\n",
      "In axis(1, at = 1 + x@bp * x@spacing - x@spacing, labels = x@x.labels, : conversion failure on ' 6月 01' in 'mbcsToSbcs': dot substituted for <9c>Warning message:\n",
      "In axis(1, at = 1 + x@bp * x@spacing - x@spacing, labels = x@x.labels, : conversion failure on ' 6月 01' in 'mbcsToSbcs': dot substituted for <88>Warning message:\n",
      "In axis(1, at = 1 + x@bp * x@spacing - x@spacing, labels = x@x.labels, : conversion failure on ' 7月 02' in 'mbcsToSbcs': dot substituted for <e6>Warning message:\n",
      "In axis(1, at = 1 + x@bp * x@spacing - x@spacing, labels = x@x.labels, : conversion failure on ' 7月 02' in 'mbcsToSbcs': dot substituted for <9c>Warning message:\n",
      "In axis(1, at = 1 + x@bp * x@spacing - x@spacing, labels = x@x.labels, : conversion failure on ' 7月 02' in 'mbcsToSbcs': dot substituted for <88>Warning message:\n",
      "In axis(1, at = 1 + x@bp * x@spacing - x@spacing, labels = x@x.labels, : conversion failure on ' 7月 02' in 'mbcsToSbcs': dot substituted for <e6>Warning message:\n",
      "In axis(1, at = 1 + x@bp * x@spacing - x@spacing, labels = x@x.labels, : conversion failure on ' 7月 02' in 'mbcsToSbcs': dot substituted for <9c>Warning message:\n",
      "In axis(1, at = 1 + x@bp * x@spacing - x@spacing, labels = x@x.labels, : conversion failure on ' 7月 02' in 'mbcsToSbcs': dot substituted for <88>Warning message:\n",
      "In axis(1, at = 1 + x@bp * x@spacing - x@spacing, labels = x@x.labels, : conversion failure on ' 8月 01' in 'mbcsToSbcs': dot substituted for <e6>Warning message:\n",
      "In axis(1, at = 1 + x@bp * x@spacing - x@spacing, labels = x@x.labels, : conversion failure on ' 8月 01' in 'mbcsToSbcs': dot substituted for <9c>Warning message:\n",
      "In axis(1, at = 1 + x@bp * x@spacing - x@spacing, labels = x@x.labels, : conversion failure on ' 8月 01' in 'mbcsToSbcs': dot substituted for <88>Warning message:\n",
      "In axis(1, at = 1 + x@bp * x@spacing - x@spacing, labels = x@x.labels, : conversion failure on ' 9月 03' in 'mbcsToSbcs': dot substituted for <e6>Warning message:\n",
      "In axis(1, at = 1 + x@bp * x@spacing - x@spacing, labels = x@x.labels, : conversion failure on ' 9月 03' in 'mbcsToSbcs': dot substituted for <9c>Warning message:\n",
      "In axis(1, at = 1 + x@bp * x@spacing - x@spacing, labels = x@x.labels, : conversion failure on ' 9月 03' in 'mbcsToSbcs': dot substituted for <88>Warning message:\n",
      "In axis(1, at = 1 + x@bp * x@spacing - x@spacing, labels = x@x.labels, : conversion failure on ' 9月 03' in 'mbcsToSbcs': dot substituted for <e6>Warning message:\n",
      "In axis(1, at = 1 + x@bp * x@spacing - x@spacing, labels = x@x.labels, : conversion failure on ' 9月 03' in 'mbcsToSbcs': dot substituted for <9c>Warning message:\n",
      "In axis(1, at = 1 + x@bp * x@spacing - x@spacing, labels = x@x.labels, : conversion failure on ' 9月 03' in 'mbcsToSbcs': dot substituted for <88>Warning message:\n",
      "In axis(1, at = 1 + x@bp * x@spacing - x@spacing, labels = x@x.labels, : conversion failure on '10月 08' in 'mbcsToSbcs': dot substituted for <e6>Warning message:\n",
      "In axis(1, at = 1 + x@bp * x@spacing - x@spacing, labels = x@x.labels, : conversion failure on '10月 08' in 'mbcsToSbcs': dot substituted for <9c>Warning message:\n",
      "In axis(1, at = 1 + x@bp * x@spacing - x@spacing, labels = x@x.labels, : conversion failure on '10月 08' in 'mbcsToSbcs': dot substituted for <88>Warning message:\n",
      "In axis(1, at = 1 + x@bp * x@spacing - x@spacing, labels = x@x.labels, : conversion failure on '11月 01' in 'mbcsToSbcs': dot substituted for <e6>Warning message:\n",
      "In axis(1, at = 1 + x@bp * x@spacing - x@spacing, labels = x@x.labels, : conversion failure on '11月 01' in 'mbcsToSbcs': dot substituted for <9c>Warning message:\n",
      "In axis(1, at = 1 + x@bp * x@spacing - x@spacing, labels = x@x.labels, : conversion failure on '11月 01' in 'mbcsToSbcs': dot substituted for <88>Warning message:\n",
      "In axis(1, at = 1 + x@bp * x@spacing - x@spacing, labels = x@x.labels, : conversion failure on '11月 01' in 'mbcsToSbcs': dot substituted for <e6>Warning message:\n",
      "In axis(1, at = 1 + x@bp * x@spacing - x@spacing, labels = x@x.labels, : conversion failure on '11月 01' in 'mbcsToSbcs': dot substituted for <9c>Warning message:\n",
      "In axis(1, at = 1 + x@bp * x@spacing - x@spacing, labels = x@x.labels, : conversion failure on '11月 01' in 'mbcsToSbcs': dot substituted for <88>Warning message:\n",
      "In axis(1, at = 1 + x@bp * x@spacing - x@spacing, labels = x@x.labels, : conversion failure on '12月 03' in 'mbcsToSbcs': dot substituted for <e6>Warning message:\n",
      "In axis(1, at = 1 + x@bp * x@spacing - x@spacing, labels = x@x.labels, : conversion failure on '12月 03' in 'mbcsToSbcs': dot substituted for <9c>Warning message:\n",
      "In axis(1, at = 1 + x@bp * x@spacing - x@spacing, labels = x@x.labels, : conversion failure on '12月 03' in 'mbcsToSbcs': dot substituted for <88>Warning message:\n",
      "In axis(1, at = 1 + x@bp * x@spacing - x@spacing, labels = x@x.labels, : conversion failure on '12月 31' in 'mbcsToSbcs': dot substituted for <e6>Warning message:\n",
      "In axis(1, at = 1 + x@bp * x@spacing - x@spacing, labels = x@x.labels, : conversion failure on '12月 31' in 'mbcsToSbcs': dot substituted for <9c>Warning message:\n",
      "In axis(1, at = 1 + x@bp * x@spacing - x@spacing, labels = x@x.labels, : conversion failure on '12月 31' in 'mbcsToSbcs': dot substituted for <88>Warning message:\n",
      "In axis(1, at = 1 + x@bp * x@spacing - x@spacing, labels = x@x.labels, : conversion failure on '12月 31' in 'mbcsToSbcs': dot substituted for <e6>Warning message:\n",
      "In axis(1, at = 1 + x@bp * x@spacing - x@spacing, labels = x@x.labels, : conversion failure on '12月 31' in 'mbcsToSbcs': dot substituted for <9c>Warning message:\n",
      "In axis(1, at = 1 + x@bp * x@spacing - x@spacing, labels = x@x.labels, : conversion failure on '12月 31' in 'mbcsToSbcs': dot substituted for <88>"
     ]
    },
    {
     "data": {
      "image/png": "[encoded data removed]"
     },
     "metadata": {},
     "output_type": "display_data"
    },
    {
     "ename": "ERROR",
     "evalue": "Error in AvgPrice(on = 1): 沒有這個函數 \"avg\"\n",
     "output_type": "error",
     "traceback": [
      "Error in AvgPrice(on = 1): 沒有這個函數 \"avg\"\n"
     ]
    },
    {
     "data": {
      "text/plain": [
       "            x  y\n",
       "2012-05-23  1 13\n",
       "2012-05-24  2 12\n",
       "2012-05-25  3 11\n",
       "2012-05-26  4 10\n",
       "2012-05-27  5  9\n",
       "2012-05-28  6  8\n",
       "2012-05-29  7  7\n",
       "2012-05-30  8  6\n",
       "2012-05-31  9  5\n",
       "2012-06-01 10  4\n",
       "2012-06-02 11  3\n",
       "2012-06-03 12  2\n",
       "2012-06-04 13  1"
      ]
     },
     "execution_count": 1,
     "metadata": {},
     "output_type": "execute_result"
    },
    {
     "data": {
      "text/plain": [
       "[1] \"xts\" \"zoo\""
      ]
     },
     "execution_count": 1,
     "metadata": {},
     "output_type": "execute_result"
    },
    {
     "data": {
      "text/plain": [
       "           x  y\n",
       "2012-05-23 1 13\n",
       "2012-05-24 2 12"
      ]
     },
     "execution_count": 1,
     "metadata": {},
     "output_type": "execute_result"
    },
    {
     "data": {
      "text/plain": [
       "           x  y\n",
       "2012-05-23 1 13"
      ]
     },
     "execution_count": 1,
     "metadata": {},
     "output_type": "execute_result"
    },
    {
     "data": {
      "text/plain": [
       "            x y\n",
       "2012-05-29  7 7\n",
       "2012-05-30  8 6\n",
       "2012-05-31  9 5\n",
       "2012-06-01 10 4\n",
       "2012-06-02 11 3\n",
       "2012-06-03 12 2\n",
       "2012-06-04 13 1"
      ]
     },
     "execution_count": 1,
     "metadata": {},
     "output_type": "execute_result"
    },
    {
     "data": {
      "text/plain": [
       "           x  y\n",
       "2012-05-23 1 13"
      ]
     },
     "execution_count": 1,
     "metadata": {},
     "output_type": "execute_result"
    },
    {
     "data": {
      "text/plain": [
       "           x  y\n",
       "2012-05-23 1 13"
      ]
     },
     "execution_count": 1,
     "metadata": {},
     "output_type": "execute_result"
    },
    {
     "data": {
      "text/plain": [
       "            x y\n",
       "2012-06-01 10 4\n",
       "2012-06-02 11 3\n",
       "2012-06-03 12 2\n",
       "2012-06-04 13 1"
      ]
     },
     "execution_count": 1,
     "metadata": {},
     "output_type": "execute_result"
    },
    {
     "data": {
      "text/plain": [
       " [1] \"2012-05-23 CST\" \"2012-05-24 CST\" \"2012-05-25 CST\" \"2012-05-26 CST\"\n",
       " [5] \"2012-05-27 CST\" \"2012-05-28 CST\" \"2012-05-29 CST\" \"2012-05-30 CST\"\n",
       " [9] \"2012-05-31 CST\" \"2012-06-01 CST\" \"2012-06-02 CST\" \"2012-06-03 CST\"\n",
       "[13] \"2012-06-04 CST\""
      ]
     },
     "execution_count": 1,
     "metadata": {},
     "output_type": "execute_result"
    },
    {
     "data": {
      "text/plain": [
       "       x  y\n",
       " [1,]  1 13\n",
       " [2,]  2 12\n",
       " [3,]  3 11\n",
       " [4,]  4 10\n",
       " [5,]  5  9\n",
       " [6,]  6  8\n",
       " [7,]  7  7\n",
       " [8,]  8  6\n",
       " [9,]  9  5\n",
       "[10,] 10  4\n",
       "[11,] 11  3\n",
       "[12,] 12  2\n",
       "[13,] 13  1"
      ]
     },
     "execution_count": 1,
     "metadata": {},
     "output_type": "execute_result"
    }
   ],
   "source": [
    "library(quantmod)\n",
    "getSymbols(Symbols = \"^SSEC\",src = \"yahoo\")\n",
    "head(SSEC)\n",
    "class(SSEC)\n",
    "candleChart(x=SSEC[\"2012\"], theme=\"white\")\n",
    "avg <- function(x) rowMeans(HLC(x))\n",
    "AvgPrice <- newTA(FUN=avg,col=\"white\",legend.name=\"AvgPrice\")\n",
    "AvgPrice(on=1)\n",
    "#----------------------------------------\n",
    "# Package xts\n",
    "#----------------------------------------\n",
    "library(xts)\n",
    "(x <- xts(x=data.frame(x=1:13,y=13:1), \n",
    "order.by=seq(from=as.POSIXct(\"2012-05-23\"),length.out=13,by=\"day\")))\n",
    "class(x)\n",
    "x[1:2,]\n",
    "x[\"2012-05-23\"]\n",
    "x[\"2012-05-29/\"]\n",
    "x[\"2012-05-21/2012-05-23\"]\n",
    "x[\"2012-05-23\"]\n",
    "x[\"2012-06\"]\n",
    "time(x)\n",
    "coredata(x)"
   ]
  },
  {
   "cell_type": "markdown",
   "metadata": {},
   "source": [
    "#### 2. 目標是什麼：定義交易邏輯               \n",
    "   "
   ]
  },
  {
   "cell_type": "code",
   "execution_count": 2,
   "metadata": {
    "collapsed": true
   },
   "outputs": [],
   "source": [
    "#------------------------------------------------\n",
    "# Get the measurement index - Profit > Cost\n",
    "#T.Index <- function(data,p,k)\n",
    "# ------------------------------------------------\n",
    "p <- 0.025\n",
    "k <- 10\n",
    "hlc <- HLC(SSEC[\"2012\"])\n",
    "P <- rowMeans(hlc)\n",
    "V <- matrix(NA,ncol=k, nrow=NROW(P))\n",
    "for (i in 1:k)\n",
    "{\n",
    "  V[,i] <- Next(Delt(P,k=i),k=i)\n",
    "}\n",
    "T <- apply(V,1,function(x) sum(x[abs(x) > p]))\n",
    "T <- xts(x=T, order.by=time(SSEC[\"2012\"]))\n",
    "\n",
    "\n",
    "#----------------------------------------\n",
    "# Optimize - To perform as a function\n",
    "# T.Index <- function(data,p,k)\n",
    "#----------------------------------------\n",
    "\n",
    "T.Index <- function(data,p,k)\n",
    "{\n",
    "  hlc <- HLC(data)\n",
    "  #hlc <- HLC(SSEC[\"2012\"])\n",
    "  P <- rowMeans(hlc)\n",
    "  V <- matrix(NA,ncol=k,nrow=NROW(P))\n",
    "  for (i in 1:k) \n",
    "  {\n",
    "    V[,i] <- Next(Delt(P,k=i), k=i)\n",
    "  }\n",
    "  T <- apply(V,1,function(x) sum(x[abs(x) > p]))\n",
    "  T <- xts(x=T, order.by=time(data))\n",
    "  return(T)\n",
    "}\n",
    "#T <- T.Index(data=SSEC[\"2012\"],p=0.025,k=10)\n",
    "T <- T.Index(data=SSEC[\"2012\"],p=0.025,k=10)"
   ]
  },
  {
   "cell_type": "markdown",
   "metadata": {},
   "source": [
    "#### 3. 預測變數是什麼：以 Random Forest 選擇重要的變數 (降維)"
   ]
  },
  {
   "cell_type": "code",
   "execution_count": 19,
   "metadata": {
    "collapsed": false
   },
   "outputs": [
    {
     "name": "stderr",
     "output_type": "stream",
     "text": [
      "Warning message:\n",
      "In download.file(paste(yahoo.URL, \"s=\", Symbols.name, \"&a=\", from.m, : 無法開啟: HTTP 狀態是 '404Not Found'"
     ]
    },
    {
     "ename": "ERROR",
     "evalue": "Error in download.file(paste(yahoo.URL, \"s=\", Symbols.name, \"&a=\", from.m, : 無法開啟 URL 'http://ichart.finance.yahoo.com/table.csv?s=SSEC&a=0&b=01&c=2007&d=6&e=27&f=2015&g=d&q=q&y=0&z=SSEC&x=.csv'\n",
     "output_type": "error",
     "traceback": [
      "Error in download.file(paste(yahoo.URL, \"s=\", Symbols.name, \"&a=\", from.m, : 無法開啟 URL 'http://ichart.finance.yahoo.com/table.csv?s=SSEC&a=0&b=01&c=2007&d=6&e=27&f=2015&g=d&q=q&y=0&z=SSEC&x=.csv'\n"
     ]
    },
    {
     "ename": "ERROR",
     "evalue": "Error in buildModel(x = model, method = \"randomForest\", training.per = c(start(SSEC), : 找不到物件 'model'\n",
     "output_type": "error",
     "traceback": [
      "Error in buildModel(x = model, method = \"randomForest\", training.per = c(start(SSEC), : 找不到物件 'model'\n"
     ]
    },
    {
     "ename": "ERROR",
     "evalue": "Error in inherits(x, \"randomForest\"): 無法從沒有插槽的基本類別 (\"function\") 的物件中取得 \"fitted.model\" 插槽\n",
     "output_type": "error",
     "traceback": [
      "Error in inherits(x, \"randomForest\"): 無法從沒有插槽的基本類別 (\"function\") 的物件中取得 \"fitted.model\" 插槽\n"
     ]
    },
    {
     "ename": "ERROR",
     "evalue": "Error in importance(rf@fitted.model): 無法從沒有插槽的基本類別 (\"function\") 的物件中取得 \"fitted.model\" 插槽\n",
     "output_type": "error",
     "traceback": [
      "Error in importance(rf@fitted.model): 無法從沒有插槽的基本類別 (\"function\") 的物件中取得 \"fitted.model\" 插槽\n"
     ]
    },
    {
     "data": {
      "text/plain": [
       "NULL"
      ]
     },
     "execution_count": 19,
     "metadata": {},
     "output_type": "execute_result"
    },
    {
     "name": "stderr",
     "output_type": "stream",
     "text": [
      "Warning message:\n",
      "In download.file(paste(yahoo.URL, \"s=\", Symbols.name, \"&a=\", from.m, : 無法開啟: HTTP 狀態是 '404Not Found'"
     ]
    },
    {
     "ename": "ERROR",
     "evalue": "Error in download.file(paste(yahoo.URL, \"s=\", Symbols.name, \"&a=\", from.m, : 無法開啟 URL 'http://ichart.finance.yahoo.com/table.csv?s=SSEC&a=0&b=01&c=2007&d=6&e=27&f=2015&g=d&q=q&y=0&z=SSEC&x=.csv'\n",
     "output_type": "error",
     "traceback": [
      "Error in download.file(paste(yahoo.URL, \"s=\", Symbols.name, \"&a=\", from.m, : 無法開啟 URL 'http://ichart.finance.yahoo.com/table.csv?s=SSEC&a=0&b=01&c=2007&d=6&e=27&f=2015&g=d&q=q&y=0&z=SSEC&x=.csv'\n"
     ]
    },
    {
     "ename": "ERROR",
     "evalue": "Error in modelData(model.data, data.window = c(start(SSEC), \"2012-12-31\")): 找不到物件 'model.data'\n",
     "output_type": "error",
     "traceback": [
      "Error in modelData(model.data, data.window = c(start(SSEC), \"2012-12-31\")): 找不到物件 'model.data'\n"
     ]
    },
    {
     "ename": "ERROR",
     "evalue": "Error in modelData(model.data, data.window = c(as.Date(\"2013-01-05\"), : 找不到物件 'model.data'\n",
     "output_type": "error",
     "traceback": [
      "Error in modelData(model.data, data.window = c(as.Date(\"2013-01-05\"), : 找不到物件 'model.data'\n"
     ]
    },
    {
     "ename": "ERROR",
     "evalue": "Error in colnames(train.data) <- c(\"T\", \"myATR\", \"mySMI\", \"myADX\", \"myMACD\", : 找不到物件 'train.data'\n",
     "output_type": "error",
     "traceback": [
      "Error in colnames(train.data) <- c(\"T\", \"myATR\", \"mySMI\", \"myADX\", \"myMACD\", : 找不到物件 'train.data'\n"
     ]
    },
    {
     "ename": "ERROR",
     "evalue": "Error in colnames(test.data) <- c(\"T\", \"myATR\", \"mySMI\", \"myADX\", \"myMACD\", : 找不到物件 'test.data'\n",
     "output_type": "error",
     "traceback": [
      "Error in colnames(test.data) <- c(\"T\", \"myATR\", \"mySMI\", \"myADX\", \"myMACD\", : 找不到物件 'test.data'\n"
     ]
    }
   ],
   "source": [
    "#----------------------------------------\n",
    "# Prediction Approach\n",
    "#----------------------------------------\n",
    "require(TTR)\n",
    "require(quantmod)\n",
    "myTTR <- function(data)\n",
    "{\n",
    "  names(data) <- sapply(X=names(SSEC),FUN=function(x) strsplit(x,split=\".\",fixed=TRUE) [[1]] [2])\n",
    "  myATR <- ATR(HLC(data))$atr\n",
    "  mySMI <- SMI(HLC(data))$SMI\n",
    "  myADX <- ADX(HLC(data))$ADX\n",
    "  myAroon <- aroon(HLC(data)[,-3])$oscillator\n",
    "  myBBands <- BBands(HLC(data))$pctB\n",
    "  myChaikin <- Delt(chaikinVolatility(HLC(data)[,-3]))[,1]\n",
    "  myCLV <- EMA(CLV(HLC(data)))[,1]\n",
    "  myMACD <- MACD(data[,\"Close\"])[,2]\n",
    "  myMFI <- MFI(data[,c(\"High\",\"Low\",\"Close\")],data[,\"Volume\"])\n",
    "  mySAR <- SAR(data[,c(\"High\",\"Close\")])[,1]\n",
    "  result <- cbind(myATR,mySMI,myADX,myAroon,myBBands,myChaikin,myCLV,myMACD,myMFI,mySAR)\n",
    "  colnames(result) <- c(\"myATR\",\"mySMI\",\"myADX\",\"myAroon\",\"myBBands\",\"myChaikin\",\"myCLV\",\"myMACD\",\"myMFI\",\"mySAR\")\n",
    "  return(result)\n",
    "}\n",
    "\n",
    "#----------------------------------------\n",
    "#Forrest Random\n",
    "#----------------------------------------\n",
    "#require(quantmod)\n",
    "\n",
    "# decision tree:  http://www.slideshare.net/DebdootSheet/decision-trees-and-random-forests\n",
    "require(randomForest)\n",
    "\n",
    "model <- specifyModel(formula=T.Index(SSEC,p=0.025,k=10) ~ Delt(Cl(SSEC),k=1:10)+\n",
    "                      myTTR(SSEC)+runMean(Cl(SSEC))+runSD(Cl(SSEC)),\n",
    "                      na.rm=TRUE)\n",
    "\n",
    "set.seed(42)\n",
    "#---------------------------------------\n",
    "# below builModel took a bit minutes\n",
    "#---------------------------------------\n",
    "rf <- buildModel(x=model,method=\"randomForest\",training.per=c(start(SSEC),index(SSEC[\"2011-10-12\"])))\n",
    "varImpPlot(rf@fitted.model)\n",
    "x <- importance(rf@fitted.model)\n",
    "#@: S4: http://adv-r.had.co.nz/S4.html\n",
    "rownames(x) [x >12]\n",
    "\n",
    "#----------------------------------------\n",
    "# Model's Prediction\n",
    "#----------------------------------------\n",
    "myTTR.data <- myTTR(SSEC)[,c(\"myATR\",\"mySMI\",\"myADX\",\"myMACD\",\"mySAR\")]\n",
    "model.data <- specifyModel(formula=T.Index(SSEC,p=0.025,k=10) ~ myTTR.data+runMean(Cl(SSEC)))\n",
    "train.data <- as.data.frame(modelData(model.data,data.window=c(start(SSEC),\"2012-12-31\")))\n",
    "test.data <- as.data.frame(modelData(model.data, data.window=c(as.Date(\"2013-01-05\"), end(SSEC))))\n",
    "colnames(train.data) <- c(\"T\",\"myATR\",\"mySMI\",\"myADX\",\"myMACD\",\"mySAR\",\"runMean\")\n",
    "colnames (test.data) <- c(\"T\",\"myATR\",\"mySMI\",\"myADX\",\"myMACD\",\"mySAR\",\"runMean\")\n",
    "form <- as.formula(\"T~.\")"
   ]
  },
  {
   "cell_type": "markdown",
   "metadata": {},
   "source": [
    "####   4. 建模型：以 Support Vector Machine 做分類\n"
   ]
  },
  {
   "cell_type": "code",
   "execution_count": null,
   "metadata": {
    "collapsed": true
   },
   "outputs": [],
   "source": [
    "library(e1071)\n",
    "# svm \n",
    "# https://cg2010studio.wordpress.com/2012/05/20/%E6%94%AF%E6%8C%81%E5%90%91%E9%87%8F%E6%A9%9F%E5%99%A8-support-vector-machine/\n",
    "m <- svm(form, train.data,cost=100)\n",
    "p <- predict(m,na.omit(test.data))"
   ]
  },
  {
   "cell_type": "markdown",
   "metadata": {},
   "source": [
    "#### 5. 評估模型表現"
   ]
  },
  {
   "cell_type": "code",
   "execution_count": null,
   "metadata": {
    "collapsed": true
   },
   "outputs": [],
   "source": [
    "#----------------------------------------\n",
    "# To Use The Evaluation Prediciton Value\n",
    "#----------------------------------------\n",
    "T2Signal <- function(x,a1 = -0.01, a2 = -a1)\n",
    "{\n",
    "  result <- ifelse(x < a1, \"Sell\", ifelse(x > a2, \"Buy\", \"Hold\"))\n",
    "  result <- factor(result)\n",
    "  return(result)\n",
    "}\n",
    "\n",
    "signal.p <- T2Signal(x=p, a1 = -0.095, a2 = 0.095)\n",
    "signal.true <- T2Signal(x=na.omit(test.data)$T, a1 = -0.095, a2 = 0.095)\n",
    "table(signal.p, signal.true)\n",
    "\n",
    "accuracy <- function(prediction, true)\n",
    "{\n",
    "  t <- table(prediction, true)\n",
    "  result <- (t[\"Sell\", \"Sell\"] + t[\"Buy\",\"Buy\"]) / (sum(t[\"Buy\",]) + sum(t[\"Sell\",]))\n",
    "  return(result)\n",
    "}\n",
    "\n",
    "accuracy(signal.p, signal.true)\n",
    "\n",
    "a1 <- -seq(0.001, 0.2, length.out=50)\n",
    "a2 <- -a1\n",
    "\n",
    "ac <- function(a1,a2)\n",
    "{\n",
    "  signal.p <- T2Signal(x=p, a1=a1, a2=a2)\n",
    "  signal.true <- T2Signal(x=na.omit(test.data)$T, a1=a2, a2=a2)\n",
    "  accuracy(prediction=signal.p, true=signal.true)\n",
    "}\n",
    "\n",
    "#reault might take for 5 seconds\n",
    "reault <- outer(X=a1, Y=a2, FUN = Vectorize(ac, vectorize.args=c(\"a1\",\"a2\")))\n",
    "ind <- which(max(reault)==reault, arr.ind=TRUE)\n",
    "cbind(a1[ind[,1]], a2[ind[,2]])\n",
    "\n",
    "filled.contour(x=-a1*100, y=a2*100, z=reault, \n",
    "               color= terrain.colors, plot.title = title(main = \"The Accuracy\",\n",
    "               xlab = expression(paste(alpha[1], \" \", 10^-2)), \n",
    "               ylab = expression(paste(alpha[2], \" \", 10^-2))),             \n",
    "               key.title = title(main = \"Accuracy\"),\n",
    "               key.axes = axis(4, seq(0, 1, by = 0.05)))"
   ]
  }
 ],
 "metadata": {
  "kernelspec": {
   "display_name": "R",
   "language": "",
   "name": "ir"
  },
  "language_info": {
   "codemirror_mode": "r",
   "file_extension": ".r",
   "mimetype": "text/x-r-source",
   "name": "R",
   "pygments_lexer": "r"
  }
 },
 "nbformat": 4,
 "nbformat_minor": 0
}
