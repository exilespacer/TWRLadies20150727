{
 "cells": [
  {
   "cell_type": "code",
   "execution_count": 4,
   "metadata": {
    "collapsed": false,
    "slideshow": {
     "slide_type": "notes"
    }
   },
   "outputs": [
    {
     "name": "stderr",
     "output_type": "stream",
     "text": [
      "/usr/local/lib/python2.7/dist-packages/IPython/extensions/rmagic.py:693: UserWarning: The rmagic extension in IPython is deprecated in favour of rpy2.ipython. If available, that will be loaded instead.\n",
      "http://rpy.sourceforge.net/\n",
      "  warnings.warn(\"The rmagic extension in IPython is deprecated in favour of \"\n"
     ]
    }
   ],
   "source": [
    "%load_ext rmagic"
   ]
  },
  {
   "cell_type": "markdown",
   "metadata": {
    "slideshow": {
     "slide_type": "slide"
    }
   },
   "source": [
    "# [導讀] 股票市場的預測\n",
    "* <a href='http://www.pcstore.com.tw/pchome24h/M19720645.htm'>基礎R語言與商業應用：第八章</a>\n",
    "* C.Y. Yen\n",
    "* July @ TW RLadies"
   ]
  },
  {
   "cell_type": "markdown",
   "metadata": {
    "slideshow": {
     "slide_type": "slide"
    }
   },
   "source": [
    "## Who am I"
   ]
  },
  {
   "cell_type": "markdown",
   "metadata": {
    "slideshow": {
     "slide_type": "slide"
    }
   },
   "source": [
    "## Outline\n",
    "* 策略：擇時買入/放空 SSEC (上海證券交易所綜合股價指數)，並持有10天\n",
    "* 問題\n",
    "    1. 使用歷史價格\n",
    "    2. 預測單一股票未來10天的績效表現\n",
    "    3. 以此決定今天是否進行交易"
   ]
  },
  {
   "cell_type": "markdown",
   "metadata": {
    "slideshow": {
     "slide_type": "subslide"
    }
   },
   "source": [
    "## Outline\n",
    "* 處理流程\n",
    "    1. 取得股價時間序列\n",
    "    2. 設定預測目標\n",
    "    3. 設定預測變數\n",
    "    4. 建模型\n",
    "    5. 評估模型表現"
   ]
  },
  {
   "cell_type": "markdown",
   "metadata": {
    "slideshow": {
     "slide_type": "subslide"
    }
   },
   "source": [
    "## Outline\n",
    "* 處理流程\n",
    "    1. 取得股價時間序列：以 quantmod 取得資料，以 xts 套件整理資料\n",
    "    2. 設定預測目標：未來10天的績效\n",
    "    3. 設定預測變數：過去的歷史價格所組成的各種指標，以 Random Forest 選擇重要的變數 (降維)\n",
    "    4. 建模型：以 Support Vector Machine 做預測\n",
    "    5. 評估模型表現：命中率"
   ]
  },
  {
   "cell_type": "markdown",
   "metadata": {
    "slideshow": {
     "slide_type": "slide"
    }
   },
   "source": [
    "### 在這個章節中，你需要了解的 Machine Learning Algorithm\n",
    "* Random Forest 隨機森林\n",
    "* Support Vector Machine 支援向量機"
   ]
  },
  {
   "cell_type": "markdown",
   "metadata": {
    "slideshow": {
     "slide_type": "slide"
    }
   },
   "source": [
    "#### <a href='http://www.slideshare.net/DebdootSheet/decision-trees-and-random-forests'>Decision Tree & Random Forest</a>\n",
    "* 用來分類\n",
    "* 用來衡量變數的重要性\n",
    "<img src='fig/decision_tree.jpg'>\n",
    "###### reference:http://www.slideshare.net/DebdootSheet/decision-trees-and-random-forests"
   ]
  },
  {
   "cell_type": "code",
   "execution_count": 23,
   "metadata": {
    "collapsed": false,
    "slideshow": {
     "slide_type": "subslide"
    }
   },
   "outputs": [
    {
     "data": {
      "text/plain": [
       "  target reproduce oversize  wing\n",
       "1      w      TRUE     TRUE  TRUE\n",
       "2      s      TRUE     TRUE FALSE\n",
       "3      q     FALSE    FALSE  TRUE\n",
       "4      p     FALSE    FALSE FALSE\n"
      ]
     },
     "metadata": {},
     "output_type": "display_data"
    }
   ],
   "source": [
    "%%R\n",
    "data_ <- data.frame(\n",
    "    target=c('w', 's', 'q', 'p'), \n",
    "    reproduce = c(TRUE, TRUE, FALSE, FALSE),\n",
    "    oversize=c(TRUE, TRUE, FALSE, FALSE),\n",
    "    wing=c(TRUE,  FALSE, TRUE, FALSE)\n",
    ")\n",
    "data_"
   ]
  },
  {
   "cell_type": "markdown",
   "metadata": {
    "slideshow": {
     "slide_type": "subslide"
    }
   },
   "source": [
    "<img src='fig/random_forest.jpg'>\n",
    "###### reference:http://www.slideshare.net/DebdootSheet/decision-trees-and-random-forests"
   ]
  },
  {
   "cell_type": "markdown",
   "metadata": {
    "slideshow": {
     "slide_type": "subslide"
    }
   },
   "source": [
    "<img src='fig/random_forest_ensemble.png' height=360>\n",
    "###### reference:http://gallery.azureml.net/Experiment/b729c21014a34955b20fa94dc13390e5"
   ]
  },
  {
   "cell_type": "markdown",
   "metadata": {
    "slideshow": {
     "slide_type": "slide"
    }
   },
   "source": [
    "#### <a href='https://cg2010studio.wordpress.com/2012/05/20/%E6%94%AF%E6%8C%81%E5%90%91%E9%87%8F%E6%A9%9F%E5%99%A8-support-vector-machine/'>Support Vector Machine</a>\n",
    "<img src='fig/svm_spirit.png'>\n",
    "###### reference:https://cg2010studio.wordpress.com/2012/05/20/%E6%94%AF%E6%8C%81%E5%90%91%E9%87%8F%E6%A9%9F%E5%99%A8-support-vector-machine/"
   ]
  },
  {
   "cell_type": "markdown",
   "metadata": {
    "slideshow": {
     "slide_type": "slide"
    }
   },
   "source": [
    " #### 1. 取得股價時間序列：以 quantmod 取得資料，以 xts 套件整理資料"
   ]
  },
  {
   "cell_type": "code",
   "execution_count": 10,
   "metadata": {
    "collapsed": false,
    "slideshow": {
     "slide_type": "subslide"
    }
   },
   "outputs": [
    {
     "data": {
      "text/plain": [
       "Loading required package: TTR\n",
       "Version 0.4-0 included new data defaults. See ?getSymbols.\n",
       "    As of 0.4-0, ‘getSymbols’ uses env=parent.frame() and\n",
       " auto.assign=TRUE by default.\n",
       "\n",
       " This  behavior  will be  phased out in 0.5-0  when the call  will\n",
       " default to use auto.assign=FALSE. getOption(\"getSymbols.env\") and \n",
       " getOptions(\"getSymbols.auto.assign\") are now checked for alternate defaults\n",
       "\n",
       " This message is shown once per session and may be disabled by setting \n",
       " options(\"getSymbols.warning4.0\"=FALSE). See ?getSymbols for more details.\n",
       "         [,1]     [,2]     [,3]     [,4]   [,5]     [,6]\n",
       "[1,] 2728.188 2847.615 2684.818 2715.719 120200 2715.719\n",
       "[2,] 2668.577 2685.804 2617.019 2641.334 106200 2641.334\n",
       "[3,] 2621.068 2708.444 2620.625 2707.199 106800 2707.199\n",
       "[4,] 2711.049 2809.394 2691.360 2807.804 110800 2807.804\n",
       "[5,] 2838.113 2841.741 2770.988 2825.576 111800 2825.576\n",
       "[6,] 2819.367 2841.180 2763.886 2770.110 121600 2770.110\n"
      ]
     },
     "metadata": {},
     "output_type": "display_data"
    }
   ],
   "source": [
    "%%R\n",
    "library(quantmod)\n",
    ". <- getSymbols(Symbols = \"^SSEC\",src = \"yahoo\")\n",
    "head(SSEC)"
   ]
  },
  {
   "cell_type": "code",
   "execution_count": 12,
   "metadata": {
    "collapsed": false,
    "slideshow": {
     "slide_type": "subslide"
    }
   },
   "outputs": [
    {
     "data": {
      "image/png": "[encoded data removed]"
     },
     "metadata": {},
     "output_type": "display_data"
    }
   ],
   "source": [
    "%%R\n",
    "candleChart(x=SSEC[\"2012\"], theme=\"white\")"
   ]
  },
  {
   "cell_type": "markdown",
   "metadata": {
    "slideshow": {
     "slide_type": "slide"
    }
   },
   "source": [
    "#### package: xts 使用方式"
   ]
  },
  {
   "cell_type": "code",
   "execution_count": 9,
   "metadata": {
    "collapsed": false,
    "scrolled": true
   },
   "outputs": [
    {
     "data": {
      "text/plain": [
       "     [,1] [,2]\n",
       "[1,]   10    4\n",
       "[2,]   11    3\n",
       "[3,]   12    2\n",
       "[4,]   13    1\n"
      ]
     },
     "metadata": {},
     "output_type": "display_data"
    }
   ],
   "source": [
    "%%R\n",
    "library(xts)\n",
    "x <- xts(x=data.frame(x=1:13,y=13:1), order.by=seq(from=as.POSIXct(\"2012-05-23\"),length.out=13,by=\"day\"))\n",
    "class(x)\n",
    "x[1:2,]\n",
    "x[\"2012-05-23\"]\n",
    "x[\"2012-05-29/\"]\n",
    "x[\"2012-05-21/2012-05-23\"]\n",
    "x[\"2012-05-23\"]\n",
    "x[\"2012-06\"]"
   ]
  },
  {
   "cell_type": "markdown",
   "metadata": {
    "slideshow": {
     "slide_type": "slide"
    }
   },
   "source": [
    "#### 2. 設定預測目標： 未來十天的績效表現\n",
    "   "
   ]
  },
  {
   "cell_type": "markdown",
   "metadata": {},
   "source": [
    "##### 使用均價比收盤價更穩定\n",
    "<br>\n",
    "$${avg.price}_t = \\frac{Close_t+High_t+Low_t}{3}$$\n",
    "<br>\n",
    "$${return}_t=\\frac{P_t-P_{t-1}}{P_{t-1}}$$\n",
    "<br>\n",
    "$$10-days~culmulated~return = \\sum_{k=1}^{10}(return_k)$$"
   ]
  },
  {
   "cell_type": "code",
   "execution_count": 103,
   "metadata": {
    "collapsed": false,
    "slideshow": {
     "slide_type": "subslide"
    }
   },
   "outputs": [],
   "source": [
    "%%R\n",
    "get.10.days.culmulated.return <- function(data, ndays, p=0.025){\n",
    "    price <- get.avg.price(data)\n",
    "    returns.in.10.days <- sapply(1:ndays, function(x) get.return(price, period=x))\n",
    "    target <- apply(returns.in.10.days, 1, function(x) sum(x[abs(x)>p]))# \n",
    "    xts(x=target, order.by=time(SSEC))\n",
    "}\n",
    "get.avg.price <- function(data){\n",
    "    hlc <- HLC(data)\n",
    "    rowMeans(hlc)    \n",
    "}\n",
    "get.return <- function(price.xts, period){\n",
    "    return.xts <- Delt(price.xts, k=period)\n",
    "    Next(return.xts, k=period)   \n",
    "}"
   ]
  },
  {
   "cell_type": "code",
   "execution_count": 203,
   "metadata": {
    "collapsed": false
   },
   "outputs": [
    {
     "data": {
      "text/plain": [
       "            [,1]\n",
       "[1,] -0.06254482\n",
       "[2,]  0.41123397\n",
       "[3,]  0.37766541\n",
       "[4,]  0.10595879\n",
       "[5,]  0.06239784\n",
       "[6,]  0.15280652\n"
      ]
     },
     "metadata": {},
     "output_type": "display_data"
    }
   ],
   "source": [
    "%%R\n",
    "target <- get.10.days.culmulated.return(data=SSEC, ndays=10)                    \n",
    "head(target)"
   ]
  },
  {
   "cell_type": "markdown",
   "metadata": {
    "slideshow": {
     "slide_type": "slide"
    }
   },
   "source": [
    "#### 3. 預測變數是什麼：以 Random Forest 選擇重要的變數 (降維)"
   ]
  },
  {
   "cell_type": "code",
   "execution_count": 136,
   "metadata": {
    "collapsed": false,
    "slideshow": {
     "slide_type": "-"
    }
   },
   "outputs": [
    {
     "data": {
      "text/plain": [
       " [1] \"myATR\"     \"mySMI\"     \"myADX\"     \"myAroon\"   \"myBBands\"  \"myChaikin\"\n",
       " [7] \"myCLV\"     \"myMACD\"    \"myMFI\"     \"mySAR\"    \n",
       "     [,1] [,2] [,3] [,4] [,5] [,6] [,7] [,8] [,9]    [,10]\n",
       "[1,]   NA   NA   NA   NA   NA   NA   NA   NA   NA 2675.615\n",
       "[2,]   NA   NA   NA   NA   NA   NA   NA   NA   NA 2847.615\n",
       "[3,]   NA   NA   NA   NA   NA   NA   NA   NA   NA 2847.615\n",
       "[4,]   NA   NA   NA   NA   NA   NA   NA   NA   NA 2839.364\n",
       "[5,]   NA   NA   NA   NA   NA   NA   NA   NA   NA 2641.334\n",
       "[6,]   NA   NA   NA   NA   NA   NA   NA   NA   NA 2641.334\n"
      ]
     },
     "metadata": {},
     "output_type": "display_data"
    }
   ],
   "source": [
    "%%R\n",
    "library(TTR)\n",
    "myTTR <- function(data)\n",
    "{\n",
    "  names(data) <- sapply(X=names(SSEC),FUN=function(x) strsplit(x,split=\".\",fixed=TRUE) [[1]] [2])\n",
    "  myATR <- ATR(HLC(data))$atr\n",
    "  mySMI <- SMI(HLC(data))$SMI\n",
    "  myADX <- ADX(HLC(data))$ADX\n",
    "  myAroon <- aroon(HLC(data)[,-3])$oscillator\n",
    "  myBBands <- BBands(HLC(data))$pctB\n",
    "  myChaikin <- Delt(chaikinVolatility(HLC(data)[,-3]))[,1]\n",
    "  myCLV <- EMA(CLV(HLC(data)))[,1]\n",
    "  myMACD <- MACD(data[,\"Close\"])[,2]\n",
    "  myMFI <- MFI(data[,c(\"High\",\"Low\",\"Close\")],data[,\"Volume\"])\n",
    "  mySAR <- SAR(data[,c(\"High\",\"Close\")])[,1]\n",
    "  result <- cbind(myATR,mySMI,myADX,myAroon,myBBands,myChaikin,myCLV,myMACD,myMFI,mySAR)\n",
    "  colnames(result) <- c(\"myATR\",\"mySMI\",\"myADX\",\"myAroon\",\"myBBands\",\"myChaikin\",\"myCLV\",\"myMACD\",\"myMFI\",\"mySAR\")\n",
    "  return(result)\n",
    "}\n",
    "\n",
    "X <- myTTR(SSEC)\n",
    "print(colnames(X))\n",
    "head(X)"
   ]
  },
  {
   "cell_type": "code",
   "execution_count": 204,
   "metadata": {
    "collapsed": false,
    "slideshow": {
     "slide_type": "subslide"
    }
   },
   "outputs": [
    {
     "data": {
      "text/plain": [
       "[1] \"myTTR.SSEC.myATR\"  \"myTTR.SSEC.myADX\"  \"myTTR.SSEC.myMACD\"\n",
       "[4] \"myTTR.SSEC.mySAR\"  \"runMean.Cl.SSEC\"  \n"
      ]
     },
     "metadata": {},
     "output_type": "display_data"
    }
   ],
   "source": [
    "%%R\n",
    "library(randomForest)\n",
    "set.seed(42)\n",
    "\n",
    "model <- specifyModel(formula=target~myTTR(SSEC)+Delt(Cl(SSEC),k=1:10)+runMean(Cl(SSEC))+runSD(Cl(SSEC)), na.rm=TRUE)\n",
    "rf <- buildModel(x=model, method=\"randomForest\", training.per=c(start(SSEC), index(SSEC[\"2011-10-12\"])))#training.per=c(start_da, end_da)\n",
    "\n",
    "#@: S4: http://adv-r.had.co.nz/S4.html\n",
    "x <- importance(rf@fitted.model)\n",
    "rownames(x) [x >12]"
   ]
  },
  {
   "cell_type": "code",
   "execution_count": 205,
   "metadata": {
    "collapsed": false,
    "slideshow": {
     "slide_type": "subslide"
    }
   },
   "outputs": [
    {
     "data": {
      "image/png": "[encoded data removed]"
     },
     "metadata": {},
     "output_type": "display_data"
    }
   ],
   "source": [
    "%%R\n",
    "varImpPlot(rf@fitted.model)"
   ]
  },
  {
   "cell_type": "markdown",
   "metadata": {
    "slideshow": {
     "slide_type": "subslide"
    }
   },
   "source": [
    "##### 將資料從 22 個維度縮減為 5 個維度"
   ]
  },
  {
   "cell_type": "code",
   "execution_count": 156,
   "metadata": {
    "collapsed": false,
    "slideshow": {
     "slide_type": "-"
    }
   },
   "outputs": [
    {
     "data": {
      "text/plain": [
       "      target    myATR    myADX      myMACD    mySAR  runMean\n",
       "1 0.03418219 102.4237 15.94273 -0.08934128 2683.452 2853.230\n",
       "2 0.14001353 106.2516 15.78291  0.10203645 2720.084 2869.720\n",
       "3 0.27584191 107.2451 15.63450  0.20364807 2753.053 2875.666\n",
       "4 0.27739792 104.4678 15.49669  0.26236579 2782.725 2885.780\n",
       "5 0.45364251 106.6755 15.84227  0.26459518 2785.306 2883.593\n",
       "6 0.39369161 106.8680 16.06185  0.26147397 2785.306 2884.424\n"
      ]
     },
     "metadata": {},
     "output_type": "display_data"
    }
   ],
   "source": [
    "%%R\n",
    "myTTR.data <- myTTR(SSEC)[,c(\"myATR\",\"myADX\", \"myMACD\",\"mySAR\" )]\n",
    "model.data <- specifyModel(formula=target ~ myTTR.data + runMean(Cl(SSEC)))\n",
    "train.data <- as.data.frame(modelData(model.data,data.window=c(start(SSEC),\"2012-12-31\")))\n",
    "test.data <- as.data.frame(modelData(model.data, data.window=c(as.Date(\"2013-01-05\"), end(SSEC))))\n",
    "\n",
    "colnames(train.data) <- c(\"target\", \"myATR\",\"myADX\", \"myMACD\",\"mySAR\", \"runMean\" )\n",
    "colnames (test.data) <- c(\"target\", \"myATR\",\"myADX\", \"myMACD\",\"mySAR\", \"runMean\" )\n",
    "head(train.data)"
   ]
  },
  {
   "cell_type": "markdown",
   "metadata": {
    "slideshow": {
     "slide_type": "slide"
    }
   },
   "source": [
    "####   4. 建模型：以 Support Vector Machine 做分類"
   ]
  },
  {
   "cell_type": "code",
   "execution_count": 196,
   "metadata": {
    "collapsed": false
   },
   "outputs": [
    {
     "data": {
      "text/plain": [
       "     predicted      true\n",
       "1  0.070396153 0.0000000\n",
       "2  0.044012275 0.0000000\n",
       "3  0.007422079 0.0000000\n",
       "4 -0.041841487 0.0000000\n",
       "5  0.008120819 0.1385232\n",
       "6  0.050580668 0.0000000\n"
      ]
     },
     "metadata": {},
     "output_type": "display_data"
    }
   ],
   "source": [
    "%%R\n",
    "library(e1071)\n",
    "model.svm <- svm(target~., data=train.data, cost=100)\n",
    "\n",
    "value.predicted <- predict(model.svm,na.omit(test.data))\n",
    "value.true <- na.omit(test.data)$target\n",
    "value <- data.frame(predicted=value.predicted, true=value.true)\n",
    "head(value)"
   ]
  },
  {
   "cell_type": "markdown",
   "metadata": {
    "slideshow": {
     "slide_type": "slide"
    }
   },
   "source": [
    "#### 5. 評估模型表現"
   ]
  },
  {
   "cell_type": "markdown",
   "metadata": {},
   "source": [
    "\n",
    "* signal = \n",
    "    * Short, if target < a1\n",
    "    * Buy, if target > a2\n",
    "    * Hold, otherwise\n"
   ]
  },
  {
   "cell_type": "code",
   "execution_count": 197,
   "metadata": {
    "collapsed": false
   },
   "outputs": [
    {
     "data": {
      "text/plain": [
       "     p true\n",
       "1 Hold Hold\n",
       "2 Hold Hold\n",
       "3 Hold Hold\n",
       "4 Hold Hold\n",
       "5 Hold  Buy\n",
       "6 Hold Hold\n"
      ]
     },
     "metadata": {},
     "output_type": "display_data"
    }
   ],
   "source": [
    "%%R\n",
    "T2Signal <- function(x,a1 = -0.01, a2 = 0.01)\n",
    "{\n",
    "  result <- ifelse(x < a1, \"Short\", ifelse(x > a2, \"Buy\", \"Hold\"))\n",
    "  result <- factor(result)\n",
    "  return(result)\n",
    "}\n",
    "\n",
    "signal <- data.frame(\n",
    "    p = T2Signal(x=value$predicted, a1 = -0.095, a2 = 0.095),\n",
    "    true = T2Signal(x=value$true, a1 = -0.095, a2 = 0.095)\n",
    ")\n",
    "head(signal)"
   ]
  },
  {
   "cell_type": "markdown",
   "metadata": {
    "slideshow": {
     "slide_type": "slide"
    }
   },
   "source": [
    "* Accuracy 定義為命中率\n",
    "$$Accuracy = \\frac{SS+HH+BB}{S+H+B}$$\n",
    "* we only care about \"Short\" & \"Buy\", re-define $Accuracy$:\n",
    "$$Accuracy = \\frac{SS+BB}{S+B}$$"
   ]
  },
  {
   "cell_type": "code",
   "execution_count": 198,
   "metadata": {
    "collapsed": false,
    "slideshow": {
     "slide_type": "-"
    }
   },
   "outputs": [
    {
     "data": {
      "text/plain": [
       "[1] 0.7625571\n"
      ]
     },
     "metadata": {},
     "output_type": "display_data"
    }
   ],
   "source": [
    "%%R\n",
    "accuracy <- function(prediction, true)\n",
    "{\n",
    "  t <- table(prediction, true)\n",
    "  result <- (t[\"Short\", \"Short\"] + t[\"Buy\",\"Buy\"]) / (sum(t[\"Buy\",]) + sum(t[\"Short\",]))\n",
    "  return(result)\n",
    "}\n",
    "\n",
    "accuracy(signal$p, signal$true)"
   ]
  },
  {
   "cell_type": "markdown",
   "metadata": {
    "slideshow": {
     "slide_type": "slide"
    }
   },
   "source": [
    "##### 爆搜 a1, a2 值，以求精確度最好"
   ]
  },
  {
   "cell_type": "code",
   "execution_count": 202,
   "metadata": {
    "collapsed": false,
    "slideshow": {
     "slide_type": "-"
    }
   },
   "outputs": [
    {
     "data": {
      "text/plain": [
       "[1] -0.1796939\n",
       "[1] 0.1756327\n",
       "[1] 0.9268293\n"
      ]
     },
     "metadata": {},
     "output_type": "display_data"
    }
   ],
   "source": [
    "%%R\n",
    "get.accuracy <- function(a1, a2)\n",
    "{\n",
    "  signal <- data.frame(\n",
    "    p = T2Signal(x=value$predicted, a1 = a1, a2 = a2),\n",
    "    true = T2Signal(x=value$true, a1 = a1, a2 = a2)\n",
    "  )\n",
    "  accuracy(prediction=signal$p, true=signal$true)\n",
    "}\n",
    "\n",
    "a1s <- - seq(0.001, 0.2, length.out=50)\n",
    "a2s <- seq(0.001, 0.2, length.out=50)\n",
    "\n",
    "#reault might take for 5 seconds\n",
    "result <- outer(X=a1s, Y=a2s, FUN = Vectorize(get.accuracy, vectorize.args=c(\"a1\",\"a2\")))\n",
    "ind <- which(result == max(result), arr.ind=TRUE)\n",
    "a1.optimal <- a1s[ind[, 1]]\n",
    "a2.optimal <- a2s[ind[, 2]]\n",
    "print(a1.optimal)\n",
    "print(a2.optimal)\n",
    "print(result[ind])"
   ]
  },
  {
   "cell_type": "code",
   "execution_count": 200,
   "metadata": {
    "collapsed": false,
    "slideshow": {
     "slide_type": "subslide"
    }
   },
   "outputs": [
    {
     "data": {
      "image/png": "[encoded data removed]"
     },
     "metadata": {},
     "output_type": "display_data"
    }
   ],
   "source": [
    "%%R\n",
    "filled.contour(\n",
    "    x= -a1s*100, \n",
    "    y=a2s*100, \n",
    "    z=result, \n",
    "    color= terrain.colors, \n",
    "    plot.title = title(main = \"The Accuracy\", xlab = expression(paste(alpha[1], \" \", 10^-2)),  ylab = expression(paste(alpha[2], \" \", 10^-2))),             \n",
    "    key.title = title(main = \"Accuracy\"),\n",
    "    key.axes = axis(4, seq(0, 1, by = 0.05))\n",
    ")"
   ]
  },
  {
   "cell_type": "markdown",
   "metadata": {
    "slideshow": {
     "slide_type": "slide"
    }
   },
   "source": [
    "# Thank you for your attention :)\n"
   ]
  },
  {
   "cell_type": "markdown",
   "metadata": {},
   "source": [
    "#### Reference:\n",
    "1. <a href='http://www.pcstore.com.tw/pchome24h/M19720645.htm'>基礎R語言與商業應用：第八章</a>\n",
    "\n",
    "#### Special thanks to Clio Chen to schedule this study group!"
   ]
  }
 ],
 "metadata": {
  "celltoolbar": "Slideshow",
  "kernelspec": {
   "display_name": "Python 2",
   "language": "python",
   "name": "python2"
  },
  "language_info": {
   "codemirror_mode": {
    "name": "ipython",
    "version": 2
   },
   "file_extension": ".py",
   "mimetype": "text/x-python",
   "name": "python",
   "nbconvert_exporter": "python",
   "pygments_lexer": "ipython2",
   "version": "2.7.6"
  }
 },
 "nbformat": 4,
 "nbformat_minor": 0
}
